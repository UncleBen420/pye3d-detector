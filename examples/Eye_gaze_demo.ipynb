{
 "cells": [
  {
   "cell_type": "code",
   "execution_count": null,
   "id": "c4c41da7-41bc-46de-9a91-592ba8b4774f",
   "metadata": {},
   "outputs": [],
   "source": [
    "import argparse\n",
    "\n",
    "import cv2\n",
    "from pupil_detectors import Detector2D\n",
    "\n",
    "from pye3d.detector_3d import CameraModel, Detector3D, DetectorMode\n",
    "import matplotlib.pyplot as plt"
   ]
  },
  {
   "cell_type": "code",
   "execution_count": null,
   "id": "6e064322-4eff-41f1-88b9-1d2a27d156e5",
   "metadata": {},
   "outputs": [],
   "source": [
    "detector_2d = Detector2D()\n",
    "# create pye3D detector\n",
    "camera = CameraModel(focal_length=228.57, resolution=[400, 640])\n",
    "detector_3d = Detector3D(camera=camera, long_term_mode=DetectorMode.blocking)"
   ]
  },
  {
   "cell_type": "code",
   "execution_count": null,
   "id": "c06c24d7-0275-43c0-9294-fdc1ca1b8e1c",
   "metadata": {},
   "outputs": [],
   "source": [
    "video_path = \"SUMMARY_gaze_2021-11-01_11-25-26-678000_right_eye.mp4\"\n",
    "cap = cv2.VideoCapture(video_path)\n",
    "\n",
    "FPS = 30\n",
    "COUNTER = 0\n",
    "\n",
    "# Check if video opened successfully\n",
    "if not cap.isOpened():\n",
    "    print(\"Error: Could not open video.\")\n",
    "    exit()\n",
    "\n",
    "# Read and display frames in a loop\n",
    "while True:\n",
    "\n",
    "    COUNTER += 1\n",
    "    \n",
    "    ret, frame = cap.read()  # Read one frame\n",
    "    if not ret:\n",
    "        print(\"End of video or can't fetch frame.\")\n",
    "        break\n",
    "\n",
    "    # read video frame as numpy array\n",
    "    grayscale_array = cv2.cvtColor(frame, cv2.COLOR_BGR2GRAY)\n",
    "    # run 2D detector on video frame\n",
    "    result_2d = detector_2d.detect(grayscale_array)\n",
    "    result_2d[\"timestamp\"] = COUNTER / FPS\n",
    "    # pass 2D detection result to 3D detector\n",
    "    result_3d = detector_3d.update_and_detect(result_2d)\n",
    "    ellipse_3d = result_3d[\"ellipse\"]\n",
    "\n",
    "    confidence = result_3d[\"confidence\"]\n",
    "\n",
    "    confidence = f\"Confidence: {confidence:.2f}\"\n",
    "    print(result_3d.keys())\n",
    "\n",
    "    cv2.ellipse(frame,\n",
    "                tuple(int(v) for v in ellipse_3d[\"center\"]),\n",
    "                tuple(int(v / 2) for v in ellipse_3d[\"axes\"]),\n",
    "                ellipse_3d[\"angle\"],\n",
    "                0,\n",
    "                360,  # start/end angle for drawing\n",
    "                (255, 0, 255),  # color (BGR): red\n",
    "               )\n",
    "    plt.title(confidence)\n",
    "    plt.imshow(frame)\n",
    "    plt.show()\n",
    "\n",
    "    "
   ]
  },
  {
   "cell_type": "code",
   "execution_count": null,
   "id": "cf6952b2-616f-47ff-b50a-983f5048d82c",
   "metadata": {},
   "outputs": [],
   "source": []
  }
 ],
 "metadata": {
  "kernelspec": {
   "display_name": "Python 3 (ipykernel)",
   "language": "python",
   "name": "python3"
  },
  "language_info": {
   "codemirror_mode": {
    "name": "ipython",
    "version": 3
   },
   "file_extension": ".py",
   "mimetype": "text/x-python",
   "name": "python",
   "nbconvert_exporter": "python",
   "pygments_lexer": "ipython3",
   "version": "3.9.2"
  }
 },
 "nbformat": 4,
 "nbformat_minor": 5
}
